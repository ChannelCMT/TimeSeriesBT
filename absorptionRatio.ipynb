{
 "cells": [
  {
   "cell_type": "code",
   "execution_count": 1,
   "metadata": {},
   "outputs": [],
   "source": [
    "from vector import portfolio, data_source\n",
    "import importlib\n",
    "import pandas as pd\n",
    "import tables as tb\n",
    "from datetime import datetime, timedelta, timezone\n",
    "from itertools import accumulate, chain\n",
    "import talib\n",
    "from talib import abstract\n",
    "import logging\n",
    "from pymongo import MongoClient\n",
    "from pymongo.database import Database\n",
    "from sklearn.decomposition import PCA"
   ]
  },
  {
   "cell_type": "code",
   "execution_count": 2,
   "metadata": {},
   "outputs": [],
   "source": [
    "MONGODB_HOST = \"172.16.11.81\"\n",
    "KLINE_DB = \"Kline_1Min_Auto_Db_Plus\"\n",
    "symbols = ['bnb', 'btc', 'eth', 'uni', 'link']\n",
    "freqs = [\"5min\"]\n",
    "utc = timezone(timedelta())"
   ]
  },
  {
   "cell_type": "code",
   "execution_count": 3,
   "metadata": {},
   "outputs": [],
   "source": [
    "importlib.reload(data_source)\n",
    "\n",
    "class DataSource(data_source.SourceManager):\n",
    "    \n",
    "    # 定义转换数据源命名转换规则: eth -> eth_usdt.spot:binance (MongoDB表名)\n",
    "    def source_key_map(self, key: str):\n",
    "        return f\"{key}_usdt.spot:binance\"\n",
    "    \n",
    "    # 定义本地缓存文件命名规则：eth -> eth\n",
    "    def target_key_map(self, key: str):\n",
    "        return key\n",
    "\n",
    "ds = DataSource.from_mongodb(\n",
    "    MONGODB_HOST,\n",
    "    KLINE_DB,\n",
    "    root = 'vector_cache' #存放缓存的默认位置\n",
    ")\n",
    "\n",
    "# 从数据库拉取一分钟数据\n",
    "ds.pull(symbols, begin=datetime(2021, 1, 1, tzinfo=utc).timestamp())\n",
    "# 合成不同周期k线\n",
    "ds.resample(symbols, freqs)"
   ]
  },
  {
   "cell_type": "code",
   "execution_count": 4,
   "metadata": {},
   "outputs": [
    {
     "data": {
      "text/plain": [
       "{'5min':                                 bnb                                            \\\n",
       "                                open      high       low     close      volume   \n",
       " timestamp                                                                       \n",
       " 2021-01-01 16:00:00+00:00   38.1318   38.3210   38.0385   38.0522  15768.7210   \n",
       " 2021-01-01 16:05:00+00:00   38.0522   38.2500   38.0495   38.2264  10953.7400   \n",
       " 2021-01-01 16:10:00+00:00   38.2205   38.2528   38.1477   38.1826   7618.1260   \n",
       " 2021-01-01 16:15:00+00:00   38.1856   38.2777   38.0944   38.1482   9890.6270   \n",
       " 2021-01-01 16:20:00+00:00   38.1471   38.2132   38.1307   38.2132   4631.5990   \n",
       " ...                             ...       ...       ...       ...         ...   \n",
       " 2021-06-06 15:35:00+00:00  391.8100  392.0800  391.2800  391.6200   4033.6036   \n",
       " 2021-06-06 15:40:00+00:00  391.6100  391.6100  390.5800  390.5800   6268.6482   \n",
       " 2021-06-06 15:45:00+00:00  390.5800  391.9600  390.5600  391.3800   4882.9827   \n",
       " 2021-06-06 15:50:00+00:00  391.3400  392.5800  390.9300  392.1200   5140.3469   \n",
       " 2021-06-06 15:55:00+00:00  392.1200  393.4800  392.0700  392.3700   7165.3145   \n",
       " \n",
       "                                 btc                                            \\\n",
       "                                open      high       low     close      volume   \n",
       " timestamp                                                                       \n",
       " 2021-01-01 16:00:00+00:00  29188.67  29260.00  29125.00  29149.59  304.984828   \n",
       " 2021-01-01 16:05:00+00:00  29148.14  29231.26  29137.01  29226.65  121.600591   \n",
       " 2021-01-01 16:10:00+00:00  29226.65  29250.00  29206.51  29220.59   94.246612   \n",
       " 2021-01-01 16:15:00+00:00  29220.59  29283.64  29218.56  29262.92  112.995424   \n",
       " 2021-01-01 16:20:00+00:00  29262.93  29307.86  29253.96  29286.04  111.605377   \n",
       " ...                             ...       ...       ...       ...         ...   \n",
       " 2021-06-06 15:35:00+00:00  36160.01  36179.49  36102.89  36119.19   87.222103   \n",
       " 2021-06-06 15:40:00+00:00  36119.18  36127.62  36074.78  36079.99  111.115403   \n",
       " 2021-06-06 15:45:00+00:00  36079.99  36149.00  36070.19  36099.03   91.245352   \n",
       " 2021-06-06 15:50:00+00:00  36098.89  36150.00  36080.00  36128.82   67.301136   \n",
       " 2021-06-06 15:55:00+00:00  36128.82  36225.00  36121.25  36157.47  179.526577   \n",
       " \n",
       "                            ...      uni                             \\\n",
       "                            ...     open     high      low    close   \n",
       " timestamp                  ...                                       \n",
       " 2021-01-01 16:00:00+00:00  ...   4.7786   4.8168   4.7434   4.7529   \n",
       " 2021-01-01 16:05:00+00:00  ...   4.7529   4.8072   4.7500   4.8000   \n",
       " 2021-01-01 16:10:00+00:00  ...   4.7987   4.8300   4.7985   4.8212   \n",
       " 2021-01-01 16:15:00+00:00  ...   4.8205   4.8291   4.7732   4.8032   \n",
       " 2021-01-01 16:20:00+00:00  ...   4.8007   4.8211   4.7820   4.8148   \n",
       " ...                        ...      ...      ...      ...      ...   \n",
       " 2021-06-06 15:35:00+00:00  ...  26.0120  26.0280  25.9570  25.9570   \n",
       " 2021-06-06 15:40:00+00:00  ...  25.9570  25.9710  25.8820  25.8990   \n",
       " 2021-06-06 15:45:00+00:00  ...  25.9040  25.9480  25.8980  25.9330   \n",
       " 2021-06-06 15:50:00+00:00  ...  25.9350  26.0130  25.9050  25.9920   \n",
       " 2021-06-06 15:55:00+00:00  ...  25.9840  26.0280  25.9660  26.0060   \n",
       " \n",
       "                                           link                             \\\n",
       "                                volume     open     high      low    close   \n",
       " timestamp                                                                   \n",
       " 2021-01-01 16:00:00+00:00  117406.230  12.1212  12.1976  12.0054  12.0220   \n",
       " 2021-01-01 16:05:00+00:00   47944.300  12.0257  12.1717  12.0226  12.1496   \n",
       " 2021-01-01 16:10:00+00:00   68297.430  12.1476  12.1515  12.0481  12.0487   \n",
       " 2021-01-01 16:15:00+00:00   36578.970  12.0507  12.0891  12.0111  12.0487   \n",
       " 2021-01-01 16:20:00+00:00   65312.790  12.0524  12.0902  12.0389  12.0883   \n",
       " ...                               ...      ...      ...      ...      ...   \n",
       " 2021-06-06 15:35:00+00:00    4780.955  27.6120  27.6190  27.5610  27.5770   \n",
       " 2021-06-06 15:40:00+00:00    4074.147  27.5750  27.5770  27.4870  27.4910   \n",
       " 2021-06-06 15:45:00+00:00    1754.074  27.4900  27.5810  27.4900  27.5170   \n",
       " 2021-06-06 15:50:00+00:00    5540.550  27.5180  27.5610  27.5000  27.5210   \n",
       " 2021-06-06 15:55:00+00:00    3882.384  27.5220  27.6420  27.5220  27.5780   \n",
       " \n",
       "                                       \n",
       "                               volume  \n",
       " timestamp                             \n",
       " 2021-01-01 16:00:00+00:00  60534.210  \n",
       " 2021-01-01 16:05:00+00:00  34869.860  \n",
       " 2021-01-01 16:10:00+00:00  31496.920  \n",
       " 2021-01-01 16:15:00+00:00  41285.730  \n",
       " 2021-01-01 16:20:00+00:00  18410.180  \n",
       " ...                              ...  \n",
       " 2021-06-06 15:35:00+00:00   3528.297  \n",
       " 2021-06-06 15:40:00+00:00   8291.616  \n",
       " 2021-06-06 15:45:00+00:00   9710.916  \n",
       " 2021-06-06 15:50:00+00:00   7560.859  \n",
       " 2021-06-06 15:55:00+00:00  32371.985  \n",
       " \n",
       " [44928 rows x 25 columns]}"
      ]
     },
     "execution_count": 4,
     "metadata": {},
     "output_type": "execute_result"
    }
   ],
   "source": [
    "result = ds.load(symbols, freqs, datetime(2021, 1, 2).timestamp(), datetime(2021, 6, 7).timestamp())\n",
    "result"
   ]
  },
  {
   "cell_type": "code",
   "execution_count": 5,
   "metadata": {},
   "outputs": [],
   "source": [
    "importlib.reload(data_source)\n",
    "import numpy as np\n",
    "#信号为矩阵计算\n",
    "def cal_sig(data: pd.DataFrame,ret_param):\n",
    "    ret = data['close'].pct_change(ret_param)\n",
    "    return pd.DataFrame({\"ret\": ret})\n",
    "\n",
    "# 数据格式转换\n",
    "class Signal(data_source.DataManager):\n",
    "    def handle_symbol(self, symbol: str, freq: str, data: pd.DataFrame) -> pd.DataFrame:\n",
    "        if freq == \"5min\":\n",
    "            return cal_sig(data,24)\n",
    "        else:\n",
    "            return super().handle_symbol(symbol, freq, data)\n",
    "\n",
    "mas = Signal(result)\n",
    "mas.prepare_data()"
   ]
  },
  {
   "cell_type": "code",
   "execution_count": 6,
   "metadata": {},
   "outputs": [],
   "source": [
    "pca = PCA(n_components=5)\n",
    "fiveRetData = mas.basic_data.loc[:, pd.IndexSlice[:, \"ret\"]].dropna()"
   ]
  },
  {
   "cell_type": "code",
   "execution_count": 7,
   "metadata": {},
   "outputs": [],
   "source": [
    "absorptionRatio = {}\n",
    "arPeriod = 50\n",
    "for i in range(len(fiveRetData)-arPeriod):\n",
    "    pca.fit(fiveRetData[i:i+arPeriod])\n",
    "    absorptionRatio[fiveRetData.index[i+arPeriod]]= pca.explained_variance_ratio_[0]"
   ]
  },
  {
   "cell_type": "code",
   "execution_count": 8,
   "metadata": {},
   "outputs": [
    {
     "data": {
      "text/plain": [
       "2021-06-06 15:35:00+00:00    0.951252\n",
       "2021-06-06 15:40:00+00:00    0.954911\n",
       "2021-06-06 15:45:00+00:00    0.957174\n",
       "2021-06-06 15:50:00+00:00    0.962577\n",
       "2021-06-06 15:55:00+00:00    0.966706\n",
       "dtype: float64"
      ]
     },
     "execution_count": 8,
     "metadata": {},
     "output_type": "execute_result"
    }
   ],
   "source": [
    "pd.Series(absorptionRatio)[-5:]"
   ]
  },
  {
   "cell_type": "code",
   "execution_count": 9,
   "metadata": {},
   "outputs": [],
   "source": [
    "absorptionRatio = {}\n",
    "arPeriod = 50\n",
    "for i in range(len(fiveRetData)-arPeriod):\n",
    "    pca.fit(fiveRetData[i:i+arPeriod])\n",
    "    absorptionRatio[fiveRetData.index[i+arPeriod]]= pca.explained_variance_ratio_[0]"
   ]
  },
  {
   "cell_type": "code",
   "execution_count": 10,
   "metadata": {},
   "outputs": [
    {
     "data": {
      "text/plain": [
       "2021-06-06 15:35:00+00:00    0.951252\n",
       "2021-06-06 15:40:00+00:00    0.954911\n",
       "2021-06-06 15:45:00+00:00    0.957174\n",
       "2021-06-06 15:50:00+00:00    0.962577\n",
       "2021-06-06 15:55:00+00:00    0.966706\n",
       "dtype: float64"
      ]
     },
     "execution_count": 10,
     "metadata": {},
     "output_type": "execute_result"
    }
   ],
   "source": [
    "pd.Series(absorptionRatio)[-5:]"
   ]
  },
  {
   "cell_type": "code",
   "execution_count": 11,
   "metadata": {},
   "outputs": [
    {
     "data": {
      "text/plain": [
       "<matplotlib.axes._subplots.AxesSubplot at 0x191c291e788>"
      ]
     },
     "execution_count": 11,
     "metadata": {},
     "output_type": "execute_result"
    }
   ],
   "source": [
    "arSeries = pd.Series(absorptionRatio)\n",
    "arSeries.plot()"
   ]
  },
  {
   "cell_type": "code",
   "execution_count": 12,
   "metadata": {},
   "outputs": [
    {
     "name": "stderr",
     "output_type": "stream",
     "text": [
      "C:\\Users\\channelchan\\Anaconda3\\lib\\site-packages\\pandas\\core\\indexes\\base.py:5277: FutureWarning: Indexing a timezone-aware DatetimeIndex with a timezone-naive datetime is deprecated and will raise KeyError in a future version.  Use a timezone-aware object instead.\n",
      "  start_slice, end_slice = self.slice_locs(start, end, step=step, kind=kind)\n"
     ]
    },
    {
     "data": {
      "text/plain": [
       "2021-05-18 00:00:00+00:00    0.979951\n",
       "2021-05-18 00:05:00+00:00    0.978133\n",
       "2021-05-18 00:10:00+00:00    0.975700\n",
       "2021-05-18 00:15:00+00:00    0.974282\n",
       "2021-05-18 00:20:00+00:00    0.974557\n",
       "                               ...   \n",
       "2021-05-19 23:40:00+00:00    0.877128\n",
       "2021-05-19 23:45:00+00:00    0.871905\n",
       "2021-05-19 23:50:00+00:00    0.864042\n",
       "2021-05-19 23:55:00+00:00    0.864309\n",
       "2021-05-20 00:00:00+00:00    0.870666\n",
       "Length: 577, dtype: float64"
      ]
     },
     "execution_count": 12,
     "metadata": {},
     "output_type": "execute_result"
    }
   ],
   "source": [
    "arSeries.loc[datetime(2021,5,18,):datetime(2021,5,20)]"
   ]
  },
  {
   "cell_type": "code",
   "execution_count": 13,
   "metadata": {},
   "outputs": [
    {
     "data": {
      "text/plain": [
       "<matplotlib.axes._subplots.AxesSubplot at 0x191c45d7708>"
      ]
     },
     "execution_count": 13,
     "metadata": {},
     "output_type": "execute_result"
    },
    {
     "data": {
      "image/png": "[encoded data removed]",
      "text/plain": [
       "<Figure size 432x288 with 1 Axes>"
      ]
     },
     "metadata": {
      "needs_background": "light"
     },
     "output_type": "display_data"
    }
   ],
   "source": [
    "import talib as ta\n",
    "ta.MA(arSeries.loc[datetime(2021,3,1):], 500).plot()"
   ]
  },
  {
   "cell_type": "code",
   "execution_count": 14,
   "metadata": {},
   "outputs": [
    {
     "data": {
      "text/plain": [
       "2021-04-17 00:00:00+00:00    0.717955\n",
       "2021-04-17 00:05:00+00:00    0.710737\n",
       "2021-04-17 00:10:00+00:00    0.688643\n",
       "2021-04-17 00:15:00+00:00    0.655477\n",
       "2021-04-17 00:20:00+00:00    0.644290\n",
       "                               ...   \n",
       "2021-04-19 23:40:00+00:00    0.825632\n",
       "2021-04-19 23:45:00+00:00    0.843080\n",
       "2021-04-19 23:50:00+00:00    0.851121\n",
       "2021-04-19 23:55:00+00:00    0.861269\n",
       "2021-04-20 00:00:00+00:00    0.862876\n",
       "Length: 865, dtype: float64"
      ]
     },
     "execution_count": 14,
     "metadata": {},
     "output_type": "execute_result"
    }
   ],
   "source": [
    "arSeries.loc[datetime(2021,4,17,):datetime(2021,4,20)]"
   ]
  },
  {
   "cell_type": "code",
   "execution_count": 15,
   "metadata": {},
   "outputs": [
    {
     "data": {
      "text/plain": [
       "2021-05-11 00:00:00+00:00    0.965413\n",
       "2021-05-11 00:05:00+00:00    0.965759\n",
       "2021-05-11 00:10:00+00:00    0.965550\n",
       "2021-05-11 00:15:00+00:00    0.961561\n",
       "2021-05-11 00:20:00+00:00    0.957022\n",
       "                               ...   \n",
       "2021-05-19 23:40:00+00:00    0.877128\n",
       "2021-05-19 23:45:00+00:00    0.871905\n",
       "2021-05-19 23:50:00+00:00    0.864042\n",
       "2021-05-19 23:55:00+00:00    0.864309\n",
       "2021-05-20 00:00:00+00:00    0.870666\n",
       "Length: 2593, dtype: float64"
      ]
     },
     "execution_count": 15,
     "metadata": {},
     "output_type": "execute_result"
    }
   ],
   "source": [
    "arSeries.loc[datetime(2021,5,11,):datetime(2021,5,20)]"
   ]
  },
  {
   "cell_type": "code",
   "execution_count": 16,
   "metadata": {},
   "outputs": [],
   "source": [
    "def pca_(x):\n",
    "    pca = KernelPCA().fit(x)#这里用到了apply函数。做PCA前，我们要对数据做标准化\n",
    "    res = pca.lambdas_[:1].sum()/pca.lambdas_.sum()\n",
    "    return res\n",
    "\n",
    "def AR_ratio(fre,predict_fre):\n",
    "    ret_mean = (bn_close.pct_change(fre).sub(bn_close.pct_change(fre).mean(axis=1),axis=0)).fillna(method='ffill')\n",
    "    ret_mean = ret_mean.dropna()\n",
    "    res_list = []\n",
    "    for i in range(ret_mean.shape[0]-predict_fre):\n",
    "        res_list.append(pca_(ret_mean.iloc[i:i+predict_fre,:]))\n",
    "    res_series = pd.Series(res_list,index = ret_mean.index[predict_fre:])\n",
    "    \n",
    "    return res_series"
   ]
  },
  {
   "cell_type": "code",
   "execution_count": 13,
   "metadata": {},
   "outputs": [],
   "source": [
    "dfTest = pd.DataFrame({\"datetime\":[1,2,3,4,5], 'ar':[6,6,6,6,6]}).set_index('datetime')"
   ]
  },
  {
   "cell_type": "code",
   "execution_count": 19,
   "metadata": {},
   "outputs": [
    {
     "data": {
      "text/plain": [
       "array([6, 6, 6, 6, 6], dtype=int64)"
      ]
     },
     "execution_count": 19,
     "metadata": {},
     "output_type": "execute_result"
    }
   ],
   "source": [
    "dfTest.values.flatten()"
   ]
  },
  {
   "cell_type": "code",
   "execution_count": null,
   "metadata": {},
   "outputs": [],
   "source": []
  }
 ],
 "metadata": {
  "kernelspec": {
   "display_name": "Python 3",
   "language": "python",
   "name": "python3"
  },
  "language_info": {
   "codemirror_mode": {
    "name": "ipython",
    "version": 3
   },
   "file_extension": ".py",
   "mimetype": "text/x-python",
   "name": "python",
   "nbconvert_exporter": "python",
   "pygments_lexer": "ipython3",
   "version": "3.7.4"
  }
 },
 "nbformat": 4,
 "nbformat_minor": 2
}
